{
 "cells": [
  {
   "cell_type": "markdown",
   "metadata": {},
   "source": [
    "# Machine Learning by SVM"
   ]
  },
  {
   "cell_type": "markdown",
   "metadata": {},
   "source": [
    "**Reference**\n",
    "\n",
    "[https://github.com/saiharshithreddy/Text-classification-and-summarization/blob/master/TextClassification/TextClassification_bbc_SVM.ipynb](https://github.com/saiharshithreddy/Text-classification-and-summarization/blob/master/TextClassification/TextClassification_bbc_SVM.ipynb)"
   ]
  },
  {
   "cell_type": "markdown",
   "metadata": {},
   "source": [
    "**Importing required libraries.**"
   ]
  },
  {
   "cell_type": "markdown",
   "metadata": {},
   "source": [
    "Importing libraries to load file"
   ]
  },
  {
   "cell_type": "code",
   "execution_count": 1,
   "metadata": {},
   "outputs": [],
   "source": [
    "import pandas as pd"
   ]
  },
  {
   "cell_type": "markdown",
   "metadata": {},
   "source": [
    "Importing libraries for text preprocessing"
   ]
  },
  {
   "cell_type": "markdown",
   "metadata": {},
   "source": [
    "- NLTK\n",
    "\n",
    "    Leading platform for building Python programs to work with human language data"
   ]
  },
  {
   "cell_type": "code",
   "execution_count": 2,
   "metadata": {},
   "outputs": [],
   "source": [
    "from nltk import pos_tag\n",
    "from nltk.tokenize import word_tokenize\n",
    "from nltk.corpus import stopwords\n",
    "from nltk.stem import WordNetLemmatizer"
   ]
  },
  {
   "cell_type": "markdown",
   "metadata": {},
   "source": [
    "Importing libraries to make Vector"
   ]
  },
  {
   "cell_type": "markdown",
   "metadata": {},
   "source": [
    "- Scikit-Learn\n",
    "\n",
    "    Python module for machine learning"
   ]
  },
  {
   "cell_type": "code",
   "execution_count": 3,
   "metadata": {},
   "outputs": [],
   "source": [
    "from sklearn.feature_extraction.text import TfidfVectorizer"
   ]
  },
  {
   "cell_type": "markdown",
   "metadata": {},
   "source": [
    "Importing libraries for Machine Learning Model (SVM)"
   ]
  },
  {
   "cell_type": "code",
   "execution_count": 4,
   "metadata": {},
   "outputs": [],
   "source": [
    "from sklearn import model_selection, svm\n",
    "from sklearn.metrics import accuracy_score\n",
    "from sklearn.metrics import classification_report\n",
    "import matplotlib.pyplot as plt\n",
    "import seaborn as sns"
   ]
  },
  {
   "cell_type": "markdown",
   "metadata": {},
   "source": [
    "**Load Dataset**"
   ]
  },
  {
   "cell_type": "markdown",
   "metadata": {},
   "source": [
    "A New Multi-Turn, Multi-Domain, Task-Oriented Dialogue Dataset\n",
    "\n",
    "- [https://nlp.stanford.edu/blog/a-new-multi-turn-multi-domain-task-oriented-dialogue-dataset/](https://nlp.stanford.edu/blog/a-new-multi-turn-multi-domain-task-oriented-dialogue-dataset/)\n",
    "\n",
    "    A corpus of 3,031 multi-turn dialogues in 3 distinct domains appropriate for an in-car assistant\n",
    "\n",
    "    - calendar scheduling\n",
    "    - weather information retrieval\n",
    "    - point-of-interest navigation."
   ]
  },
  {
   "cell_type": "code",
   "execution_count": 5,
   "metadata": {
    "_uuid": "aca2f1d9da3f35d104763166fe4d25448410d8f2"
   },
   "outputs": [
    {
     "data": {
      "text/html": [
       "<div>\n",
       "<style scoped>\n",
       "    .dataframe tbody tr th:only-of-type {\n",
       "        vertical-align: middle;\n",
       "    }\n",
       "\n",
       "    .dataframe tbody tr th {\n",
       "        vertical-align: top;\n",
       "    }\n",
       "\n",
       "    .dataframe thead th {\n",
       "        text-align: right;\n",
       "    }\n",
       "</style>\n",
       "<table border=\"1\" class=\"dataframe\">\n",
       "  <thead>\n",
       "    <tr style=\"text-align: right;\">\n",
       "      <th></th>\n",
       "      <th>category</th>\n",
       "      <th>text</th>\n",
       "    </tr>\n",
       "  </thead>\n",
       "  <tbody>\n",
       "    <tr>\n",
       "      <th>0</th>\n",
       "      <td>weather</td>\n",
       "      <td>Will it be misty in Los Angeles today?</td>\n",
       "    </tr>\n",
       "    <tr>\n",
       "      <th>1</th>\n",
       "      <td>schedule</td>\n",
       "      <td>What time is my next swimming activity and who...</td>\n",
       "    </tr>\n",
       "    <tr>\n",
       "      <th>2</th>\n",
       "      <td>weather</td>\n",
       "      <td>what will the temperature be for the next week</td>\n",
       "    </tr>\n",
       "    <tr>\n",
       "      <th>3</th>\n",
       "      <td>navigate</td>\n",
       "      <td>Can you find me a shopping center?</td>\n",
       "    </tr>\n",
       "    <tr>\n",
       "      <th>4</th>\n",
       "      <td>schedule</td>\n",
       "      <td>when am i playing tennis</td>\n",
       "    </tr>\n",
       "  </tbody>\n",
       "</table>\n",
       "</div>"
      ],
      "text/plain": [
       "   category                                               text\n",
       "0   weather             Will it be misty in Los Angeles today?\n",
       "1  schedule  What time is my next swimming activity and who...\n",
       "2   weather     what will the temperature be for the next week\n",
       "3  navigate                 Can you find me a shopping center?\n",
       "4  schedule                           when am i playing tennis"
      ]
     },
     "execution_count": 5,
     "metadata": {},
     "output_type": "execute_result"
    }
   ],
   "source": [
    "Corpus = pd.read_csv('intent_text.csv',delimiter=',',encoding='utf-8')\n",
    "Corpus.head()"
   ]
  },
  {
   "cell_type": "code",
   "execution_count": 6,
   "metadata": {
    "_uuid": "95a8b5d6f19cf42d4f55c6d2842faf1d0d55c1d0",
    "scrolled": false
   },
   "outputs": [
    {
     "name": "stdout",
     "output_type": "stream",
     "text": [
      "<class 'pandas.core.frame.DataFrame'>\n",
      "RangeIndex: 3030 entries, 0 to 3029\n",
      "Data columns (total 2 columns):\n",
      " #   Column    Non-Null Count  Dtype \n",
      "---  ------    --------------  ----- \n",
      " 0   category  3030 non-null   object\n",
      " 1   text      3030 non-null   object\n",
      "dtypes: object(2)\n",
      "memory usage: 47.5+ KB\n"
     ]
    }
   ],
   "source": [
    "Corpus.info()"
   ]
  },
  {
   "cell_type": "code",
   "execution_count": 7,
   "metadata": {
    "_uuid": "a12002f521dd8eaeb0f69a932cbf23815ffd09d7"
   },
   "outputs": [
    {
     "data": {
      "text/plain": [
       "Text(0.5, 1.0, 'CountPlot')"
      ]
     },
     "execution_count": 7,
     "metadata": {},
     "output_type": "execute_result"
    },
    {
     "data": {
      "image/png": "[encoded data removed]",
      "text/plain": [
       "<Figure size 432x288 with 1 Axes>"
      ]
     },
     "metadata": {
      "needs_background": "light"
     },
     "output_type": "display_data"
    }
   ],
   "source": [
    "sns.countplot(Corpus.category)\n",
    "plt.xlabel('Category')\n",
    "plt.title('CountPlot')"
   ]
  },
  {
   "cell_type": "markdown",
   "metadata": {},
   "source": [
    "## 1. Data Preprocessing"
   ]
  },
  {
   "cell_type": "markdown",
   "metadata": {},
   "source": [
    "First of all, we need to preprocess the data in order to train the model.\n",
    "\n",
    "(ex) Hello World! I majored in computer science.\n",
    "\n",
    "- Lowercase\n",
    "→ hello world! i majored in computer science.\n",
    "- Tokenize\n",
    "→ ['hello', 'world', '!', 'i', 'majored', 'in', 'computer', 'science', '.']\n",
    "- Lemmatize\n",
    "→ ['hello', 'world', '!', 'i', 'major', 'in', 'computer', 'science', '.']\n",
    "- Stopword Filtering\n",
    "→ ['hello', 'world', '!', 'major', 'computer', 'science', '.']"
   ]
  },
  {
   "cell_type": "code",
   "execution_count": 26,
   "metadata": {},
   "outputs": [],
   "source": [
    "def preprocess_tokenizer(string):\n",
    "    \n",
    "    # 1. Make all charactors lower\n",
    "    string = string.lower()\n",
    "    \n",
    "    # 2. Tokenize\n",
    "    string = word_tokenize(string)\n",
    "    \n",
    "    # 3. Lemmatize\n",
    "    lemmatizer = WordNetLemmatizer()    \n",
    "    string = [lemmatizer.lemmatize(w, 'v') for w in string]\n",
    "    \n",
    "    # 4. Remove Stopwords.\n",
    "    stop_words = set(stopwords.words('english'))\n",
    "    stop_words.add('?')\n",
    "    stop_words.add(',')\n",
    "    stop_words.remove('who')\n",
    "    stop_words.remove('when')\n",
    "    stop_words.remove('where')\n",
    "    \n",
    "    result = []\n",
    "    \n",
    "    for w in string: \n",
    "        if w not in stop_words: \n",
    "            result.append(w)\n",
    "\n",
    "    return result"
   ]
  },
  {
   "cell_type": "code",
   "execution_count": 27,
   "metadata": {},
   "outputs": [],
   "source": [
    "for index,entry in enumerate(Corpus['text']):\n",
    "    result = preprocess_tokenizer(entry)\n",
    "    Corpus.loc[index,'text_final'] = str(result)"
   ]
  },
  {
   "cell_type": "code",
   "execution_count": 11,
   "metadata": {},
   "outputs": [],
   "source": [
    "Corpus.drop(['text'], axis=1)\n",
    "output_path = 'preprocessed_data.csv'\n",
    "Corpus.to_csv(output_path, index=False)"
   ]
  },
  {
   "cell_type": "markdown",
   "metadata": {},
   "source": [
    "Splitting the data into train and test datasets (Train : Test = 7 : 3)"
   ]
  },
  {
   "cell_type": "markdown",
   "metadata": {},
   "source": [
    "Splitting the data into train and test datasets (Train : Test = 7 : 3)\n",
    "\n",
    "- Train model by train dataset\n",
    "- Test accuracy by test dataset"
   ]
  },
  {
   "cell_type": "code",
   "execution_count": 12,
   "metadata": {
    "_uuid": "aa3386af09469682c66cc53a1830a4e42f0e70b6",
    "scrolled": true
   },
   "outputs": [],
   "source": [
    "Train_X, Test_X, Train_Y, Test_Y = model_selection.train_test_split(Corpus['text_final'],Corpus['category'],test_size=0.3)"
   ]
  },
  {
   "cell_type": "markdown",
   "metadata": {},
   "source": [
    "Extract TF-IDF features from Dataset\n",
    "\n",
    "- TF-IDF (Term Frequency-Inverse Document Frequency)\n",
    "\n",
    "    Numerical statistic that is intended to reflect how important a word is in a collection or corpus.\n",
    "\n",
    "Create vectors using TF-IDF feature\n",
    "\n",
    "- The TfidfVectorizer will tokenize documents, learn the vocabulary and inverse document frequency weightings, and allow you to encode new documents.\n",
    "- A document-term matrix is a mathematical matrix that describes the frequency of terms that occur in a collection of documents."
   ]
  },
  {
   "cell_type": "code",
   "execution_count": 13,
   "metadata": {},
   "outputs": [
    {
     "name": "stdout",
     "output_type": "stream",
     "text": [
      "{'today': 87, 'time': 86, 'next': 56, 'swim': 80, 'activity': 1, 'who': 96, 'attend': 6, 'temperature': 84, 'week': 92, 'find': 26, 'shop': 73, 'center': 10, 'when': 94, 'tennis': 85, 'rest': 67, 'stop': 78, 'please': 61, 'give': 34, 'address': 2, 'directions': 23, 'route': 69, 'traffic': 89, 'grocery': 37, 'store': 79, 'need': 54, 'fastest': 25, 'hospital': 39, 'go': 35, 'forecast': 29, 'weather': 90, 'like': 42, 'tomorrow': 88, 'schedule': 71, 'dentist': 21, 'appointment': 4, 'pm': 62, 'month': 49, 'city': 13, 'date': 18, 'agenda': 3, 'meet': 47, 'remind': 65, '12th': 0, 'conference': 17, 'reminder': 66, 'gas': 32, 'station': 77, 'car': 9, 'nearest': 53, 'within': 97, 'miles': 48, 'yoga': 98, 'get': 33, 'home': 38, 'near': 51, 'set': 72, 'august': 7, 'where': 95, 'park': 58, 'garage': 31, 'tell': 83, 'lab': 41, 'show': 74, 'coffee': 16, 'dinner': 22, 'friend': 30, 'doctor': 24, 'take': 81, 'optometrist': 57, 'place': 60, 'cloudy': 15, 'chinese': 12, 'restaurant': 68, 'around': 5, 'tea': 82, 'days': 20, 'check': 11, 'house': 40, 'quickest': 63, 'day': 19, 'new': 55, 'york': 99, 'pizza': 59, 'nearby': 52, 'mall': 45, 'local': 43, 'rain': 64, 'closest': 14, 'football': 28, 'location': 44, 'snow': 75, 'calendar': 8, 'food': 27, 'wednesday': 91, 'medicine': 46, 'gon': 36, 'na': 50, 'san': 70, 'weekend': 93, 'starbucks': 76}\n"
     ]
    }
   ],
   "source": [
    "# Convert a collection of raw documents to a matrix of TF-IDF features.\n",
    "Tfidf_vect = TfidfVectorizer(max_features=100)\n",
    "\n",
    "# Learn vocabulary and idf from training set.\n",
    "Tfidf_vect.fit(Corpus['text_final'])\n",
    "\n",
    "# Transform documents to document-term matrix.\n",
    "Train_X_Tfidf = Tfidf_vect.transform(Train_X)\n",
    "Test_X_Tfidf = Tfidf_vect.transform(Test_X)\n",
    "\n",
    "# A mapping of terms to feature indices.\n",
    "print(Tfidf_vect.vocabulary_)"
   ]
  },
  {
   "cell_type": "markdown",
   "metadata": {},
   "source": [
    "Print (Number of utterence(=sentence), Number of features)"
   ]
  },
  {
   "cell_type": "code",
   "execution_count": 28,
   "metadata": {},
   "outputs": [
    {
     "data": {
      "text/plain": [
       "(2121, 100)"
      ]
     },
     "execution_count": 28,
     "metadata": {},
     "output_type": "execute_result"
    }
   ],
   "source": [
    "Train_X_Tfidf.shape"
   ]
  },
  {
   "cell_type": "markdown",
   "metadata": {},
   "source": [
    "Print (Index of utterence(=sentence), Index of feature)    TF-IDF of feature"
   ]
  },
  {
   "cell_type": "code",
   "execution_count": 31,
   "metadata": {
    "scrolled": true
   },
   "outputs": [
    {
     "name": "stdout",
     "output_type": "stream",
     "text": [
      "  (0, 64)\t0.8029578476664858\n",
      "  (0, 92)\t0.5960358167684259\n",
      "  (1, 29)\t0.5274646814996069\n",
      "  (1, 75)\t0.699499710938453\n",
      "  (1, 92)\t0.48216300580564964\n",
      "  (2, 47)\t0.5776931748112284\n",
      "  (2, 94)\t0.6302821787155001\n",
      "  (2, 95)\t0.5186665315693368\n",
      "  (3, 16)\t0.5730734869952759\n",
      "  (3, 26)\t0.43918195044831915\n",
      "  (3, 53)\t0.44441972138431324\n",
      "  (3, 73)\t0.5302802128574806\n",
      "  (4, 14)\t0.5398935605127754\n",
      "  (4, 16)\t0.538473962722525\n",
      "  (4, 26)\t0.41266617734151695\n",
      "  (4, 73)\t0.4982643483785274\n",
      "  (5, 47)\t0.5097377207179066\n",
      "  (5, 61)\t0.4908819392062519\n",
      "  (5, 66)\t0.5011002514189834\n",
      "  (5, 72)\t0.4980972955821529\n",
      "  (6, 31)\t0.5524936144352794\n",
      "  (6, 52)\t0.5342494859628748\n",
      "  (6, 58)\t0.49786926892314004\n",
      "  (6, 95)\t0.4018139915664747\n",
      "  (8, 56)\t0.5051486445728431\n",
      "  :\t:\n",
      "  (2112, 87)\t0.3490848584343831\n",
      "  (2112, 88)\t0.3899262265436163\n",
      "  (2112, 90)\t0.6155473876720298\n",
      "  (2113, 39)\t0.6663407237639835\n",
      "  (2113, 53)\t0.4742985637908995\n",
      "  (2113, 81)\t0.575352858895809\n",
      "  (2114, 87)\t1.0\n",
      "  (2115, 4)\t0.48928069024532256\n",
      "  (2115, 24)\t0.6399576712317937\n",
      "  (2115, 96)\t0.5925019706166722\n",
      "  (2116, 13)\t0.7322192000805516\n",
      "  (2116, 84)\t0.6810690442483766\n",
      "  (2117, 64)\t0.7777699069982473\n",
      "  (2117, 87)\t0.6285491005227337\n",
      "  (2118, 28)\t0.7004444182234755\n",
      "  (2118, 86)\t0.5127668019240873\n",
      "  (2118, 92)\t0.4964351154220667\n",
      "  (2119, 4)\t0.48061297889455307\n",
      "  (2119, 21)\t0.7172333702264382\n",
      "  (2119, 86)\t0.5045666032861555\n",
      "  (2120, 8)\t0.5639269813557103\n",
      "  (2120, 47)\t0.41387128289386876\n",
      "  (2120, 71)\t0.3664264019916904\n",
      "  (2120, 83)\t0.4872004857612597\n",
      "  (2120, 87)\t0.3729132600112741\n"
     ]
    }
   ],
   "source": [
    "print(Train_X_Tfidf)"
   ]
  },
  {
   "cell_type": "markdown",
   "metadata": {},
   "source": [
    "# Train & Test"
   ]
  },
  {
   "cell_type": "markdown",
   "metadata": {},
   "source": [
    "**Train & Test SVM Model**\n",
    "\n",
    "1. Setting parameters for SVM\n",
    "\n",
    "    svm.SVC(C=1.0, kernel='linear', degree=3, gamma='auto')\n",
    "\n",
    "    - C : Regularization parameter\n",
    "    - **kernel : {‘linear’, ‘poly’, ‘rbf’, ‘sigmoid’, ‘precomputed’}**\n",
    "                 Specifies the kernel type to be used in the algorithm\n",
    "    - degree : Degree of the polynomial kernel function (‘poly’)\n",
    "    - gamma : Kernel coefficient for ‘rbf’, ‘poly’ and ‘sigmoid’\n",
    "\n",
    "\n",
    "2. Train SVM\n",
    "\n",
    "    SVM.fit(Train data, Train label)\n",
    "\n",
    "\n",
    "3. Test(Predict)\n",
    "\n",
    "    SVM.predict(Test data)  //return predicted label of Test data\n",
    "\n",
    "\n",
    "4. Accuracy\n",
    "\n",
    "    Accuracy classification score\n",
    "\n",
    "    Let's see how well our model has trained."
   ]
  },
  {
   "cell_type": "code",
   "execution_count": 32,
   "metadata": {},
   "outputs": [
    {
     "name": "stdout",
     "output_type": "stream",
     "text": [
      "SVM Accuracy Score ->  99.55995599559955\n"
     ]
    }
   ],
   "source": [
    "# Classifier - Algorithm - SVM\n",
    "# 1. Setting parameters for SVM\n",
    "SVM = svm.SVC(C=1.0, kernel='linear', degree=3, gamma='auto')\n",
    "\n",
    "# 2. Train SVM\n",
    "SVM.fit(Train_X_Tfidf,Train_Y)\n",
    "\n",
    "# 3. Predict the labels on validation dataset\n",
    "predictions_SVM = SVM.predict(Test_X_Tfidf)\n",
    "\n",
    "# 4. Use accuracy_score function to get the accuracy\n",
    "print(\"SVM Accuracy Score -> \",accuracy_score(predictions_SVM, Test_Y)*100)"
   ]
  },
  {
   "cell_type": "markdown",
   "metadata": {},
   "source": [
    "Build a text report showing the main classification metrics"
   ]
  },
  {
   "cell_type": "code",
   "execution_count": 16,
   "metadata": {
    "scrolled": true
   },
   "outputs": [
    {
     "name": "stdout",
     "output_type": "stream",
     "text": [
      "              precision    recall  f1-score   support\n",
      "\n",
      "    navigate       1.00      0.99      0.99       307\n",
      "    schedule       1.00      1.00      1.00       318\n",
      "     weather       0.99      1.00      0.99       284\n",
      "\n",
      "    accuracy                           1.00       909\n",
      "   macro avg       1.00      1.00      1.00       909\n",
      "weighted avg       1.00      1.00      1.00       909\n",
      "\n"
     ]
    }
   ],
   "source": [
    "print(classification_report(Test_Y,predictions_SVM))"
   ]
  },
  {
   "cell_type": "markdown",
   "metadata": {},
   "source": [
    "# AI, Is it work well?"
   ]
  },
  {
   "cell_type": "markdown",
   "metadata": {},
   "source": [
    "Function to get intent of input string"
   ]
  },
  {
   "cell_type": "code",
   "execution_count": 17,
   "metadata": {},
   "outputs": [],
   "source": [
    "def intent(str):\n",
    "    uttr = Tfidf_vect.transform([str])\n",
    "    intent = SVM.predict(uttr)\n",
    "    print(intent)"
   ]
  },
  {
   "cell_type": "markdown",
   "metadata": {},
   "source": [
    "Let's put some example to our SVM model"
   ]
  },
  {
   "cell_type": "code",
   "execution_count": 18,
   "metadata": {
    "scrolled": true
   },
   "outputs": [
    {
     "name": "stdout",
     "output_type": "stream",
     "text": [
      "['navigate']\n"
     ]
    }
   ],
   "source": [
    "intent(\"Find a parking lot\")"
   ]
  },
  {
   "cell_type": "code",
   "execution_count": 19,
   "metadata": {},
   "outputs": [
    {
     "name": "stdout",
     "output_type": "stream",
     "text": [
      "['schedule']\n"
     ]
    }
   ],
   "source": [
    "intent(\"When is the lab meeting?\")"
   ]
  },
  {
   "cell_type": "code",
   "execution_count": 20,
   "metadata": {},
   "outputs": [
    {
     "name": "stdout",
     "output_type": "stream",
     "text": [
      "['weather']\n"
     ]
    }
   ],
   "source": [
    "intent(\"is it sunny today?\")"
   ]
  },
  {
   "cell_type": "code",
   "execution_count": null,
   "metadata": {},
   "outputs": [],
   "source": []
  }
 ],
 "metadata": {
  "kernelspec": {
   "display_name": "Python 3",
   "language": "python",
   "name": "python3"
  },
  "language_info": {
   "codemirror_mode": {
    "name": "ipython",
    "version": 3
   },
   "file_extension": ".py",
   "mimetype": "text/x-python",
   "name": "python",
   "nbconvert_exporter": "python",
   "pygments_lexer": "ipython3",
   "version": "3.7.6"
  }
 },
 "nbformat": 4,
 "nbformat_minor": 1
}
