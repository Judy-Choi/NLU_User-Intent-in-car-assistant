{
 "cells": [
  {
   "cell_type": "markdown",
   "metadata": {},
   "source": [
    "# Machine Learning by SVM"
   ]
  },
  {
   "cell_type": "markdown",
   "metadata": {},
   "source": [
    "**Reference**\n",
    "\n",
    "[https://github.com/saiharshithreddy/Text-classification-and-summarization/blob/master/TextClassification/TextClassification_bbc_SVM.ipynb](https://github.com/saiharshithreddy/Text-classification-and-summarization/blob/master/TextClassification/TextClassification_bbc_SVM.ipynb)"
   ]
  },
  {
   "cell_type": "markdown",
   "metadata": {},
   "source": [
    "**Importing required libraries.**"
   ]
  },
  {
   "cell_type": "markdown",
   "metadata": {},
   "source": [
    "Importing libraries to load file"
   ]
  },
  {
   "cell_type": "code",
   "execution_count": 1,
   "metadata": {},
   "outputs": [],
   "source": [
    "import pandas as pd"
   ]
  },
  {
   "cell_type": "markdown",
   "metadata": {},
   "source": [
    "Importing libraries for text preprocessing"
   ]
  },
  {
   "cell_type": "markdown",
   "metadata": {},
   "source": [
    "- NLTK\n",
    "\n",
    "    Leading platform for building Python programs to work with human language data"
   ]
  },
  {
   "cell_type": "code",
   "execution_count": 2,
   "metadata": {},
   "outputs": [],
   "source": [
    "from nltk import pos_tag\n",
    "from nltk.tokenize import word_tokenize\n",
    "from nltk.corpus import stopwords\n",
    "from nltk.stem import WordNetLemmatizer"
   ]
  },
  {
   "cell_type": "markdown",
   "metadata": {},
   "source": [
    "Importing libraries to make Vector"
   ]
  },
  {
   "cell_type": "markdown",
   "metadata": {},
   "source": [
    "- Scikit-Learn\n",
    "\n",
    "    Python module for machine learning"
   ]
  },
  {
   "cell_type": "code",
   "execution_count": 3,
   "metadata": {},
   "outputs": [],
   "source": [
    "from sklearn.feature_extraction.text import TfidfVectorizer"
   ]
  },
  {
   "cell_type": "markdown",
   "metadata": {},
   "source": [
    "Importing libraries for Machine Learning Model (SVM)"
   ]
  },
  {
   "cell_type": "code",
   "execution_count": 4,
   "metadata": {},
   "outputs": [],
   "source": [
    "from sklearn import model_selection, svm\n",
    "from sklearn.metrics import accuracy_score\n",
    "from sklearn.metrics import classification_report\n",
    "import matplotlib.pyplot as plt\n",
    "import seaborn as sns"
   ]
  },
  {
   "cell_type": "markdown",
   "metadata": {},
   "source": [
    "**Load Dataset**"
   ]
  },
  {
   "cell_type": "markdown",
   "metadata": {},
   "source": [
    "A New Multi-Turn, Multi-Domain, Task-Oriented Dialogue Dataset\n",
    "\n",
    "- [https://nlp.stanford.edu/blog/a-new-multi-turn-multi-domain-task-oriented-dialogue-dataset/](https://nlp.stanford.edu/blog/a-new-multi-turn-multi-domain-task-oriented-dialogue-dataset/)\n",
    "\n",
    "    A corpus of 3,031 multi-turn dialogues in 3 distinct domains appropriate for an in-car assistant\n",
    "\n",
    "    - calendar scheduling\n",
    "    - weather information retrieval\n",
    "    - point-of-interest navigation."
   ]
  },
  {
   "cell_type": "code",
   "execution_count": 5,
   "metadata": {
    "_uuid": "aca2f1d9da3f35d104763166fe4d25448410d8f2"
   },
   "outputs": [
    {
     "data": {
      "text/html": [
       "<div>\n",
       "<style scoped>\n",
       "    .dataframe tbody tr th:only-of-type {\n",
       "        vertical-align: middle;\n",
       "    }\n",
       "\n",
       "    .dataframe tbody tr th {\n",
       "        vertical-align: top;\n",
       "    }\n",
       "\n",
       "    .dataframe thead th {\n",
       "        text-align: right;\n",
       "    }\n",
       "</style>\n",
       "<table border=\"1\" class=\"dataframe\">\n",
       "  <thead>\n",
       "    <tr style=\"text-align: right;\">\n",
       "      <th></th>\n",
       "      <th>category</th>\n",
       "      <th>text</th>\n",
       "    </tr>\n",
       "  </thead>\n",
       "  <tbody>\n",
       "    <tr>\n",
       "      <th>0</th>\n",
       "      <td>weather</td>\n",
       "      <td>Will it be misty in Los Angeles today?</td>\n",
       "    </tr>\n",
       "    <tr>\n",
       "      <th>1</th>\n",
       "      <td>schedule</td>\n",
       "      <td>What time is my next swimming activity and who...</td>\n",
       "    </tr>\n",
       "    <tr>\n",
       "      <th>2</th>\n",
       "      <td>weather</td>\n",
       "      <td>what will the temperature be for the next week</td>\n",
       "    </tr>\n",
       "    <tr>\n",
       "      <th>3</th>\n",
       "      <td>navigate</td>\n",
       "      <td>Can you find me a shopping center?</td>\n",
       "    </tr>\n",
       "    <tr>\n",
       "      <th>4</th>\n",
       "      <td>schedule</td>\n",
       "      <td>when am i playing tennis</td>\n",
       "    </tr>\n",
       "  </tbody>\n",
       "</table>\n",
       "</div>"
      ],
      "text/plain": [
       "   category                                               text\n",
       "0   weather             Will it be misty in Los Angeles today?\n",
       "1  schedule  What time is my next swimming activity and who...\n",
       "2   weather     what will the temperature be for the next week\n",
       "3  navigate                 Can you find me a shopping center?\n",
       "4  schedule                           when am i playing tennis"
      ]
     },
     "execution_count": 5,
     "metadata": {},
     "output_type": "execute_result"
    }
   ],
   "source": [
    "Corpus = pd.read_csv('intent_text.csv',delimiter=',',encoding='utf-8')\n",
    "Corpus.head()"
   ]
  },
  {
   "cell_type": "code",
   "execution_count": 6,
   "metadata": {
    "_uuid": "95a8b5d6f19cf42d4f55c6d2842faf1d0d55c1d0",
    "scrolled": false
   },
   "outputs": [
    {
     "name": "stdout",
     "output_type": "stream",
     "text": [
      "<class 'pandas.core.frame.DataFrame'>\n",
      "RangeIndex: 3030 entries, 0 to 3029\n",
      "Data columns (total 2 columns):\n",
      " #   Column    Non-Null Count  Dtype \n",
      "---  ------    --------------  ----- \n",
      " 0   category  3030 non-null   object\n",
      " 1   text      3030 non-null   object\n",
      "dtypes: object(2)\n",
      "memory usage: 47.5+ KB\n"
     ]
    }
   ],
   "source": [
    "Corpus.info()"
   ]
  },
  {
   "cell_type": "code",
   "execution_count": 7,
   "metadata": {
    "_uuid": "a12002f521dd8eaeb0f69a932cbf23815ffd09d7"
   },
   "outputs": [
    {
     "data": {
      "text/plain": [
       "Text(0.5, 1.0, 'CountPlot')"
      ]
     },
     "execution_count": 7,
     "metadata": {},
     "output_type": "execute_result"
    },
    {
     "data": {
      "image/png": "[encoded data removed]",
      "text/plain": [
       "<Figure size 432x288 with 1 Axes>"
      ]
     },
     "metadata": {
      "needs_background": "light"
     },
     "output_type": "display_data"
    }
   ],
   "source": [
    "sns.countplot(Corpus.category)\n",
    "plt.xlabel('Category')\n",
    "plt.title('CountPlot')"
   ]
  },
  {
   "cell_type": "markdown",
   "metadata": {},
   "source": [
    "## 1. Data Preprocessing"
   ]
  },
  {
   "cell_type": "markdown",
   "metadata": {},
   "source": [
    "First of all, we need to preprocess the data in order to train the model.\n",
    "\n",
    "(ex) Hello World! I majored in computer science.\n",
    "\n",
    "- Lowercase\n",
    "→ hello world! i majored in computer science.\n",
    "- Tokenize\n",
    "→ ['hello', 'world', '!', 'i', 'majored', 'in', 'computer', 'science', '.']\n",
    "- Lemmatize\n",
    "→ ['hello', 'world', '!', 'i', 'major', 'in', 'computer', 'science', '.']\n",
    "- Stopword Filtering\n",
    "→ ['hello', 'world', '!', 'major', 'computer', 'science', '.']"
   ]
  },
  {
   "cell_type": "code",
   "execution_count": 8,
   "metadata": {},
   "outputs": [],
   "source": [
    "def preprocess_tokenizer(string):\n",
    "    \n",
    "    # 1. Make all charactors lower\n",
    "    string = string.lower()\n",
    "    \n",
    "    # 2. Tokenize\n",
    "    string = word_tokenize(string)\n",
    "    \n",
    "    # 3. Lemmatize\n",
    "    lemmatizer = WordNetLemmatizer()    \n",
    "    string = [lemmatizer.lemmatize(w, 'v') for w in string]\n",
    "    \n",
    "    # 4. Remove Stopwords.\n",
    "    stop_words = set(stopwords.words('english'))\n",
    "    stop_words.add('?')\n",
    "    stop_words.add(',')\n",
    "    stop_words.remove('who')\n",
    "    stop_words.remove('when')\n",
    "    stop_words.remove('where')\n",
    "    \n",
    "    result = []\n",
    "    \n",
    "    for w in string: \n",
    "        if w not in stop_words: \n",
    "            result.append(w)\n",
    "\n",
    "    return result"
   ]
  },
  {
   "cell_type": "code",
   "execution_count": 9,
   "metadata": {},
   "outputs": [],
   "source": [
    "for index,entry in enumerate(Corpus['text']):\n",
    "    result = preprocess_tokenizer(entry)\n",
    "    Corpus.loc[index,'text_final'] = str(result)"
   ]
  },
  {
   "cell_type": "code",
   "execution_count": 10,
   "metadata": {},
   "outputs": [],
   "source": [
    "Corpus.drop(['text'], axis=1)\n",
    "output_path = 'preprocessed_data.csv'\n",
    "Corpus.to_csv(output_path, index=False)"
   ]
  },
  {
   "cell_type": "markdown",
   "metadata": {},
   "source": [
    "Splitting the data into train and test datasets (Train : Test = 7 : 3)"
   ]
  },
  {
   "cell_type": "code",
   "execution_count": 11,
   "metadata": {
    "_uuid": "aa3386af09469682c66cc53a1830a4e42f0e70b6",
    "scrolled": true
   },
   "outputs": [],
   "source": [
    "Train_X, Test_X, Train_Y, Test_Y = model_selection.train_test_split(Corpus['text_final'],Corpus['category'],test_size=0.3)"
   ]
  },
  {
   "cell_type": "markdown",
   "metadata": {},
   "source": [
    "Extract TF-IDF features from Dataset\n",
    "\n",
    "- TF-IDF (Term Frequency-Inverse Document Frequency)\n",
    "\n",
    "    Numerical statistic that is intended to reflect how important a word is in a collection or corpus.\n",
    "\n",
    "Create vectors using TF-IDF feature\n",
    "\n",
    "- The TfidfVectorizer will tokenize documents, learn the vocabulary and inverse document frequency weightings, and allow you to encode new documents.\n",
    "- A document-term matrix is a mathematical matrix that describes the frequency of terms that occur in a collection of documents."
   ]
  },
  {
   "cell_type": "code",
   "execution_count": 12,
   "metadata": {},
   "outputs": [
    {
     "name": "stdout",
     "output_type": "stream",
     "text": [
      "{'misty': 112, 'los': 104, 'angeles': 22, 'today': 178, 'time': 177, 'next': 123, 'swim': 169, 'activity': 15, 'who': 195, 'attend': 26, 'temperature': 174, 'week': 190, 'find': 64, 'shop': 156, 'center': 35, 'when': 193, 'tennis': 175, 'rest': 144, 'stop': 164, 'humid': 93, 'please': 134, 'give': 79, 'address': 17, 'directions': 55, 'via': 185, 'route': 148, 'avoid': 29, 'heavy': 86, 'traffic': 181, 'grocery': 84, 'store': 165, 'need': 121, 'fastest': 62, 'hospital': 89, 'highest': 87, 'go': 80, 'cleveland': 41, 'forecast': 68, 'weather': 188, 'like': 99, 'tomorrow': 180, 'schedule': 151, 'dentist': 52, 'appointment': 23, 'pm': 135, 'month': 114, 'father': 63, 'weekly': 192, 'report': 143, 'city': 38, 'date': 49, 'agenda': 18, 'meet': 110, 'fresno': 70, 'right': 146, 'remind': 141, '12th': 3, 'conference': 46, 'room': 147, 'make': 105, 'reminder': 142, 'pick': 131, 'later': 98, 'frost': 74, 'durham': 59, 'gas': 77, 'station': 163, 'fast': 61, 'car': 34, 'desire': 53, 'one': 125, 'nearest': 120, 'within': 197, 'miles': 111, 'yoga': 198, 'martha': 108, 'get': 78, 'home': 88, 'near': 118, 'set': 154, 'august': 27, '11am': 2, 'aunt': 28, 'where': 194, 'park': 129, 'garage': 76, 'tell': 173, 'lab': 97, 'show': 158, 'overcast': 128, 'sunday': 167, 'coffee': 44, 'dinner': 54, 'navigate': 117, 'friend': 72, 'doctor': 57, 'take': 170, '2pm': 7, 'marie': 107, 'come': 45, 'optometrist': 126, 'saturday': 150, 'place': 133, 'cloudy': 43, 'chinese': 37, 'restaurant': 145, 'around': 25, 'tea': 171, 'hotel': 91, 'days': 51, 'check': 36, 'monday': 113, '1st': 6, 'friends': 73, 'house': 92, 'area': 24, 'see': 152, 'quickest': 137, 'day': 50, 'tuesday': 182, 'groceries': 83, 'new': 122, 'york': 199, '4pm': 9, '8th': 13, 'sister': 159, 'pizza': 132, 'nearby': 119, 'mall': 106, 'want': 186, 'local': 101, 'team': 172, 'seven': 155, 'rain': 138, '13th': 4, 'jeff': 94, 'party': 130, 'closest': 42, 'football': 67, 'game': 75, 'live': 100, 'shortest': 157, 'distance': 56, 'current': 47, 'location': 102, 'snow': 161, 'alex': 19, 'warm': 187, 'outside': 127, 'calendar': 33, '7th': 12, 'jon': 95, 'food': 66, 'grand': 82, 'rapids': 139, 'class': 39, '5pm': 10, 'brother': 31, 'wednesday': 189, '1pm': 5, 'ana': 21, '3pm': 8, 'suppose': 168, 'brentwood': 30, 'two': 183, 'medicine': 109, 'upcoming': 184, 'windy': 196, '10': 0, 'drizzle': 58, 'redwood': 140, 'tom': 179, 'send': 153, 'add': 16, 'quick': 136, 'thursday': 176, 'gon': 81, 'na': 116, 'hot': 90, 'san': 149, 'know': 96, 'friday': 71, '10am': 1, 'clear': 40, 'sky': 160, 'francisco': 69, 'eat': 60, 'mother': 115, 'weekend': 191, 'starbucks': 162, 'danville': 48, 'look': 103, 'oakland': 124, 'cafe': 32, '9am': 14, 'foggy': 65, 'alhambra': 20, '6pm': 11, 'stormy': 166, 'hail': 85}\n"
     ]
    }
   ],
   "source": [
    "# Convert a collection of raw documents to a matrix of TF-IDF features.\n",
    "Tfidf_vect = TfidfVectorizer(max_features=200)\n",
    "\n",
    "# Learn vocabulary and idf from training set.\n",
    "Tfidf_vect.fit(Corpus['text_final'])\n",
    "\n",
    "# Transform documents to document-term matrix.\n",
    "Train_X_Tfidf = Tfidf_vect.transform(Train_X)\n",
    "Test_X_Tfidf = Tfidf_vect.transform(Test_X)\n",
    "\n",
    "# A mapping of terms to feature indices.\n",
    "print(Tfidf_vect.vocabulary_)"
   ]
  },
  {
   "cell_type": "markdown",
   "metadata": {},
   "source": [
    "Print (Number of utterence(=sentence), Number of features)"
   ]
  },
  {
   "cell_type": "code",
   "execution_count": 13,
   "metadata": {},
   "outputs": [
    {
     "data": {
      "text/plain": [
       "(2121, 200)"
      ]
     },
     "execution_count": 13,
     "metadata": {},
     "output_type": "execute_result"
    }
   ],
   "source": [
    "Train_X_Tfidf.shape"
   ]
  },
  {
   "cell_type": "markdown",
   "metadata": {},
   "source": [
    "Print (Index of utterence(=sentence), Index of feature)    TF-IDF of feature"
   ]
  },
  {
   "cell_type": "code",
   "execution_count": 14,
   "metadata": {
    "scrolled": true
   },
   "outputs": [
    {
     "name": "stdout",
     "output_type": "stream",
     "text": [
      "  (0, 198)\t0.3315301997284456\n",
      "  (0, 154)\t0.2803209510535776\n",
      "  (0, 142)\t0.28201096512034424\n",
      "  (0, 135)\t0.3220383798892404\n",
      "  (0, 134)\t0.27626026736903947\n",
      "  (0, 45)\t0.4184585477795623\n",
      "  (0, 28)\t0.43059792199941443\n",
      "  (0, 13)\t0.4375238582429908\n",
      "  (1, 154)\t0.39744893489872873\n",
      "  (1, 142)\t0.3998450964709398\n",
      "  (1, 105)\t0.6203367632632741\n",
      "  (1, 57)\t0.43318715359222315\n",
      "  (1, 23)\t0.33119395085466646\n",
      "  (2, 133)\t0.5046460508141107\n",
      "  (2, 120)\t0.39032506982466025\n",
      "  (2, 79)\t0.4241921494611789\n",
      "  (2, 55)\t0.3996368026368218\n",
      "  (2, 44)\t0.503319132934383\n",
      "  (3, 71)\t0.552066481899355\n",
      "  (3, 65)\t0.602560679545515\n",
      "  (3, 30)\t0.5763186853025992\n",
      "  (4, 177)\t0.4022403876695502\n",
      "  (4, 110)\t0.47053745381190054\n",
      "  (4, 49)\t0.46612244942002007\n",
      "  (4, 18)\t0.6320815115428898\n",
      "  :\t:\n",
      "  (2115, 151)\t0.5510758053767115\n",
      "  (2115, 57)\t0.6629053462487878\n",
      "  (2115, 23)\t0.5068253729275831\n",
      "  (2116, 177)\t0.4563245419249147\n",
      "  (2116, 57)\t0.5685177027800016\n",
      "  (2116, 49)\t0.5287960128639553\n",
      "  (2116, 23)\t0.43466114484958274\n",
      "  (2117, 190)\t0.2899811475769393\n",
      "  (2117, 161)\t0.420691190459003\n",
      "  (2117, 116)\t0.4604550679370461\n",
      "  (2117, 81)\t0.4751065160320875\n",
      "  (2117, 59)\t0.548803047691146\n",
      "  (2118, 172)\t0.6388737252622166\n",
      "  (2118, 151)\t0.37087102031619945\n",
      "  (2118, 135)\t0.47024146354776286\n",
      "  (2118, 46)\t0.4828747409211387\n",
      "  (2119, 195)\t0.4183969504094141\n",
      "  (2119, 169)\t0.507984434553289\n",
      "  (2119, 49)\t0.42033363161741\n",
      "  (2119, 26)\t0.44762517449933065\n",
      "  (2119, 15)\t0.4357145251485666\n",
      "  (2120, 190)\t0.3196427467994705\n",
      "  (2120, 116)\t0.5075541079927735\n",
      "  (2120, 85)\t0.6049390282151881\n",
      "  (2120, 81)\t0.523704223794513\n"
     ]
    }
   ],
   "source": [
    "print(Train_X_Tfidf)"
   ]
  },
  {
   "cell_type": "markdown",
   "metadata": {},
   "source": [
    "# Train & Test"
   ]
  },
  {
   "cell_type": "markdown",
   "metadata": {},
   "source": [
    "**Train & Test SVM Model**\n",
    "\n",
    "1. Setting parameters for SVM\n",
    "\n",
    "    svm.SVC(C=1.0, kernel='linear', degree=3, gamma='auto')\n",
    "\n",
    "    - C : Regularization parameter\n",
    "    - **kernel : {‘linear’, ‘poly’, ‘rbf’, ‘sigmoid’, ‘precomputed’}**\n",
    "                 Specifies the kernel type to be used in the algorithm\n",
    "    - degree : Degree of the polynomial kernel function (‘poly’)\n",
    "    - gamma : Kernel coefficient for ‘rbf’, ‘poly’ and ‘sigmoid’\n",
    "\n",
    "\n",
    "2. Train SVM\n",
    "\n",
    "    SVM.fit(Train data, Train label)\n",
    "\n",
    "\n",
    "3. Test(Predict)\n",
    "\n",
    "    SVM.predict(Test data)  //return predicted label of Test data\n",
    "\n",
    "\n",
    "4. Accuracy\n",
    "\n",
    "    Accuracy classification score\n",
    "\n",
    "    Let's see how well our model has trained."
   ]
  },
  {
   "cell_type": "code",
   "execution_count": 15,
   "metadata": {},
   "outputs": [
    {
     "name": "stdout",
     "output_type": "stream",
     "text": [
      "SVM Accuracy Score ->  100.0\n"
     ]
    }
   ],
   "source": [
    "# Classifier - Algorithm - SVM\n",
    "# 1. Setting parameters for SVM\n",
    "SVM = svm.SVC(C=1.0, kernel='linear', degree=3, gamma='auto')\n",
    "\n",
    "# 2. Train SVM\n",
    "SVM.fit(Train_X_Tfidf,Train_Y)\n",
    "\n",
    "# 3. Predict the labels on validation dataset\n",
    "predictions_SVM = SVM.predict(Test_X_Tfidf)\n",
    "\n",
    "# 4. Use accuracy_score function to get the accuracy\n",
    "print(\"SVM Accuracy Score -> \",accuracy_score(predictions_SVM, Test_Y)*100)"
   ]
  },
  {
   "cell_type": "markdown",
   "metadata": {},
   "source": [
    "Build a text report showing the main classification metrics"
   ]
  },
  {
   "cell_type": "code",
   "execution_count": 16,
   "metadata": {
    "scrolled": true
   },
   "outputs": [
    {
     "name": "stdout",
     "output_type": "stream",
     "text": [
      "              precision    recall  f1-score   support\n",
      "\n",
      "    navigate       1.00      1.00      1.00       320\n",
      "    schedule       1.00      1.00      1.00       297\n",
      "     weather       1.00      1.00      1.00       292\n",
      "\n",
      "    accuracy                           1.00       909\n",
      "   macro avg       1.00      1.00      1.00       909\n",
      "weighted avg       1.00      1.00      1.00       909\n",
      "\n"
     ]
    }
   ],
   "source": [
    "print(classification_report(Test_Y,predictions_SVM))"
   ]
  },
  {
   "cell_type": "markdown",
   "metadata": {},
   "source": [
    "# AI, Is it work well?"
   ]
  },
  {
   "cell_type": "markdown",
   "metadata": {},
   "source": [
    "Function to get intent of input string"
   ]
  },
  {
   "cell_type": "code",
   "execution_count": 17,
   "metadata": {},
   "outputs": [],
   "source": [
    "def intent(str):\n",
    "    uttr = Tfidf_vect.transform([str])\n",
    "    intent = SVM.predict(uttr)\n",
    "    print(intent)"
   ]
  },
  {
   "cell_type": "markdown",
   "metadata": {},
   "source": [
    "Let's put some example to our SVM model"
   ]
  },
  {
   "cell_type": "code",
   "execution_count": 18,
   "metadata": {
    "scrolled": true
   },
   "outputs": [
    {
     "name": "stdout",
     "output_type": "stream",
     "text": [
      "['navigate']\n"
     ]
    }
   ],
   "source": [
    "intent(\"Find the parking lot\")"
   ]
  },
  {
   "cell_type": "code",
   "execution_count": 19,
   "metadata": {},
   "outputs": [
    {
     "name": "stdout",
     "output_type": "stream",
     "text": [
      "['schedule']\n"
     ]
    }
   ],
   "source": [
    "intent(\"When is the lab meeting?\")"
   ]
  },
  {
   "cell_type": "code",
   "execution_count": 20,
   "metadata": {},
   "outputs": [
    {
     "name": "stdout",
     "output_type": "stream",
     "text": [
      "['weather']\n"
     ]
    }
   ],
   "source": [
    "intent(\"is it sunny today?\")"
   ]
  },
  {
   "cell_type": "code",
   "execution_count": null,
   "metadata": {},
   "outputs": [],
   "source": []
  }
 ],
 "metadata": {
  "kernelspec": {
   "display_name": "Python 3",
   "language": "python",
   "name": "python3"
  },
  "language_info": {
   "codemirror_mode": {
    "name": "ipython",
    "version": 3
   },
   "file_extension": ".py",
   "mimetype": "text/x-python",
   "name": "python",
   "nbconvert_exporter": "python",
   "pygments_lexer": "ipython3",
   "version": "3.7.6"
  }
 },
 "nbformat": 4,
 "nbformat_minor": 1
}
